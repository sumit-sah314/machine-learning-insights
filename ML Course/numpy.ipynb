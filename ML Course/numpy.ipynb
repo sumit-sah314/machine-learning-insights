{
 "cells": [
  {
   "cell_type": "code",
   "execution_count": 6,
   "id": "b2333715-9f3d-462d-9f3b-c26a6e53dc91",
   "metadata": {},
   "outputs": [],
   "source": [
    "import numpy as np"
   ]
  },
  {
   "cell_type": "code",
   "execution_count": 10,
   "id": "4a649db2-ee8d-4055-af6c-440f1cc3a4f2",
   "metadata": {},
   "outputs": [
    {
     "data": {
      "text/plain": [
       "array([1, 2, 3])"
      ]
     },
     "execution_count": 10,
     "metadata": {},
     "output_type": "execute_result"
    }
   ],
   "source": [
    "arr = np.array([1,2,3])\n",
    "arr"
   ]
  },
  {
   "cell_type": "code",
   "execution_count": 36,
   "id": "844e5210-e042-416d-a7df-a7797a325ea1",
   "metadata": {},
   "outputs": [],
   "source": [
    "SIZE = 1000\n",
    "python_list = list(range(SIZE))"
   ]
  },
  {
   "cell_type": "code",
   "execution_count": 38,
   "id": "1e9e9408-8a69-49a1-94c8-9fdc77ff888d",
   "metadata": {},
   "outputs": [
    {
     "data": {
      "text/plain": [
       "28000"
      ]
     },
     "execution_count": 38,
     "metadata": {},
     "output_type": "execute_result"
    }
   ],
   "source": [
    "import sys\n",
    "sys.getsizeof(python_list[0])*len(python_list)"
   ]
  },
  {
   "cell_type": "code",
   "execution_count": 40,
   "id": "38edbbb8-955a-41ac-b18e-48ce9345851e",
   "metadata": {},
   "outputs": [
    {
     "data": {
      "text/plain": [
       "4000"
      ]
     },
     "execution_count": 40,
     "metadata": {},
     "output_type": "execute_result"
    }
   ],
   "source": [
    "numpy_array = np.arange(SIZE)\n",
    "numpy_array.nbytes"
   ]
  },
  {
   "cell_type": "code",
   "execution_count": null,
   "id": "214e90f8-1c8d-406f-a973-7f3d011ffb8e",
   "metadata": {},
   "outputs": [],
   "source": [
    "#Why?support non homogenous, numpy array in continous memory locations, less time"
   ]
  },
  {
   "cell_type": "code",
   "execution_count": 54,
   "id": "08585e7f-4df4-4904-b638-5d9855ea1104",
   "metadata": {},
   "outputs": [
    {
     "data": {
      "text/plain": [
       "1"
      ]
     },
     "execution_count": 54,
     "metadata": {},
     "output_type": "execute_result"
    }
   ],
   "source": [
    "# Basic Operations\n",
    "arr1 = np.array([10,11,12])\n",
    "arr1.ndim"
   ]
  },
  {
   "cell_type": "code",
   "execution_count": 60,
   "id": "cb0f1d29-e56c-431b-8f79-14feed36a5a0",
   "metadata": {},
   "outputs": [
    {
     "data": {
      "text/plain": [
       "dtype('int32')"
      ]
     },
     "execution_count": 60,
     "metadata": {},
     "output_type": "execute_result"
    }
   ],
   "source": [
    "arr2 = np.array([[10,11,12],\n",
    "                 [13,14,15]])\n",
    "arr2.ndim\n",
    "arr2[0,1]\n",
    "arr2.dtype"
   ]
  },
  {
   "cell_type": "code",
   "execution_count": 62,
   "id": "bf5b1336-49f4-4ea4-a6d5-3166bbd21b1d",
   "metadata": {},
   "outputs": [
    {
     "data": {
      "text/plain": [
       "dtype('float64')"
      ]
     },
     "execution_count": 62,
     "metadata": {},
     "output_type": "execute_result"
    }
   ],
   "source": [
    "arr2 = np.array([[10,11,12],\n",
    "                 [13,14,15]], dtype = np.float64)\n",
    "arr2.dtype"
   ]
  },
  {
   "cell_type": "code",
   "execution_count": 68,
   "id": "28f4ce16-32c6-40b6-91ae-4502779ac897",
   "metadata": {},
   "outputs": [
    {
     "data": {
      "text/plain": [
       "8"
      ]
     },
     "execution_count": 68,
     "metadata": {},
     "output_type": "execute_result"
    }
   ],
   "source": [
    "arr2.itemsize"
   ]
  },
  {
   "cell_type": "code",
   "execution_count": 70,
   "id": "8f8f408a-1f72-4d35-9bfa-3c74897cd3af",
   "metadata": {},
   "outputs": [
    {
     "data": {
      "text/plain": [
       "6"
      ]
     },
     "execution_count": 70,
     "metadata": {},
     "output_type": "execute_result"
    }
   ],
   "source": [
    "arr2.size"
   ]
  },
  {
   "cell_type": "code",
   "execution_count": 72,
   "id": "9704059e-3aba-4ebf-83d0-269dbd54180f",
   "metadata": {},
   "outputs": [
    {
     "data": {
      "text/plain": [
       "2"
      ]
     },
     "execution_count": 72,
     "metadata": {},
     "output_type": "execute_result"
    }
   ],
   "source": [
    "arr2.ndim"
   ]
  },
  {
   "cell_type": "code",
   "execution_count": 80,
   "id": "5d73f765-e238-4cfe-9e40-ad77fee3b4f4",
   "metadata": {},
   "outputs": [
    {
     "data": {
      "text/plain": [
       "(2, 3)"
      ]
     },
     "execution_count": 80,
     "metadata": {},
     "output_type": "execute_result"
    }
   ],
   "source": [
    "arr2.shape"
   ]
  },
  {
   "cell_type": "code",
   "execution_count": 82,
   "id": "a909ec93-4e8f-40a1-8df7-eec1228557ad",
   "metadata": {},
   "outputs": [
    {
     "data": {
      "text/plain": [
       "array([[0., 0., 0.],\n",
       "       [0., 0., 0.]])"
      ]
     },
     "execution_count": 82,
     "metadata": {},
     "output_type": "execute_result"
    }
   ],
   "source": [
    "np.zeros((2,3))"
   ]
  },
  {
   "cell_type": "code",
   "execution_count": 88,
   "id": "67fe969a-0e78-405b-9c9c-f55a47b457af",
   "metadata": {},
   "outputs": [
    {
     "data": {
      "text/plain": [
       "array([ 1. ,  5.5, 10. ])"
      ]
     },
     "execution_count": 88,
     "metadata": {},
     "output_type": "execute_result"
    }
   ],
   "source": [
    "np.linspace(1,10,3)"
   ]
  },
  {
   "cell_type": "code",
   "execution_count": null,
   "id": "a718d35f-6834-4de0-9a21-c3379c1a1e17",
   "metadata": {},
   "outputs": [],
   "source": []
  }
 ],
 "metadata": {
  "kernelspec": {
   "display_name": "Python 3 (ipykernel)",
   "language": "python",
   "name": "python3"
  },
  "language_info": {
   "codemirror_mode": {
    "name": "ipython",
    "version": 3
   },
   "file_extension": ".py",
   "mimetype": "text/x-python",
   "name": "python",
   "nbconvert_exporter": "python",
   "pygments_lexer": "ipython3",
   "version": "3.12.7"
  }
 },
 "nbformat": 4,
 "nbformat_minor": 5
}
